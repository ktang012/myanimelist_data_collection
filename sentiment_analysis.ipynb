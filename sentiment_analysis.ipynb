{
 "cells": [
  {
   "cell_type": "markdown",
   "metadata": {},
   "source": [
    "## Sentiment Analysis\n",
    "* Testing Glove embeddings vs sum-pooled BERT embeddings for sentiment analysis\n",
    "* Glove embeddings are fed into bidirectional LSTM\n",
    "* Can try using `en_vectors_web_lg` and sentencizing on floydhub\n",
    "* Sum-pooled BERT embeddings are fed into MLP\n",
    "* Should try other pooling methods for BERT embeddings. Could also try sentencizing a review"
   ]
  },
  {
   "cell_type": "code",
   "execution_count": 7,
   "metadata": {},
   "outputs": [
    {
     "name": "stdout",
     "output_type": "stream",
     "text": [
      "The autoreload extension is already loaded. To reload it, use:\n",
      "  %reload_ext autoreload\n"
     ]
    }
   ],
   "source": [
    "import pandas as pd\n",
    "import numpy as np\n",
    "import matplotlib.pyplot as plt\n",
    "import spacy\n",
    "import torch\n",
    "import cupy\n",
    "import pickle\n",
    "\n",
    "from keras.models import Sequential, model_from_json\n",
    "from keras.layers import LSTM, Dense, Embedding, Bidirectional\n",
    "from keras.layers import TimeDistributed\n",
    "from keras.optimizers import Adam\n",
    "from keras.utils import to_categorical\n",
    "\n",
    "import preprocess_utils as prep\n",
    "\n",
    "%matplotlib inline\n",
    "%load_ext autoreload\n",
    "%autoreload 2\n",
    "\n",
    "is_using_gpu = spacy.prefer_gpu()\n",
    "if is_using_gpu:\n",
    "    torch.set_default_tensor_type(\"torch.cuda.FloatTensor\")\n",
    "    \n",
    "pd.set_option('display.max_columns', 2000)"
   ]
  },
  {
   "cell_type": "code",
   "execution_count": 8,
   "metadata": {},
   "outputs": [],
   "source": [
    "animes = prep.load_preprocessed_animes()\n",
    "reviews = prep.load_preprocessed_reviews()\n",
    "\n",
    "drop_synopsis_vectors = [\"synopsis.vector_\" + str(i) for i in range(768)]\n",
    "animes.drop(labels=drop_synopsis_vectors,axis=1, inplace=True)\n",
    "\n",
    "drop_review_vectors = [\"bert_embed.\" + str(i) for i in range(768)]\n",
    "reviews.drop(labels=drop_review_vectors, axis=1, inplace=True)\n",
    "\n",
    "with open(\"data/reviews_text.pkl\", \"rb\") as f:\n",
    "    reviews[\"content\"] = pickle.load(f)"
   ]
  },
  {
   "cell_type": "code",
   "execution_count": 9,
   "metadata": {},
   "outputs": [],
   "source": [
    "from sklearn.model_selection import train_test_split\n",
    "\n",
    "train_df, valid_df = train_test_split(reviews, test_size=0.2, random_state=1)\n",
    "valid_df, test_df = train_test_split(valid_df, test_size=0.2, random_state=1)"
   ]
  },
  {
   "cell_type": "code",
   "execution_count": 10,
   "metadata": {},
   "outputs": [
    {
     "name": "stdout",
     "output_type": "stream",
     "text": [
      "(51031, 13) (10206, 13) (2552, 13)\n"
     ]
    }
   ],
   "source": [
    "print(train_df.shape, valid_df.shape, test_df.shape)"
   ]
  },
  {
   "cell_type": "code",
   "execution_count": 22,
   "metadata": {},
   "outputs": [
    {
     "name": "stdout",
     "output_type": "stream",
     "text": [
      "11472 533.5196449217143\n"
     ]
    }
   ],
   "source": [
    "review_lengths = train_df[\"content\"].str.split().str.len()\n",
    "print(review_lengths.max(), review_lengths.mean())"
   ]
  },
  {
   "cell_type": "code",
   "execution_count": 12,
   "metadata": {},
   "outputs": [
    {
     "data": {
      "text/plain": [
       "<matplotlib.axes._subplots.AxesSubplot at 0x7f099b343940>"
      ]
     },
     "execution_count": 12,
     "metadata": {},
     "output_type": "execute_result"
    },
    {
     "data": {
      "image/png": "[encoded data removed]",
      "text/plain": [
       "<Figure size 432x288 with 1 Axes>"
      ]
     },
     "metadata": {
      "needs_background": "light"
     },
     "output_type": "display_data"
    }
   ],
   "source": [
    "review_lengths.hist(bins=50, log=True)"
   ]
  },
  {
   "cell_type": "code",
   "execution_count": 13,
   "metadata": {},
   "outputs": [
    {
     "name": "stdout",
     "output_type": "stream",
     "text": [
      "7.392212576669084 8.0\n"
     ]
    }
   ],
   "source": [
    "print(train_df[\"reviewer.scores.overall\"].mean(), train_df[\"reviewer.scores.overall\"].median())"
   ]
  },
  {
   "cell_type": "code",
   "execution_count": 14,
   "metadata": {},
   "outputs": [
    {
     "data": {
      "text/plain": [
       "9     10344\n",
       "8      9761\n",
       "10     9065\n",
       "7      7529\n",
       "6      4620\n",
       "5      3270\n",
       "4      2257\n",
       "3      2160\n",
       "2      1092\n",
       "1       933\n",
       "Name: reviewer.scores.overall, dtype: int64"
      ]
     },
     "execution_count": 14,
     "metadata": {},
     "output_type": "execute_result"
    }
   ],
   "source": [
    "train_df[\"reviewer.scores.overall\"].value_counts()"
   ]
  },
  {
   "cell_type": "code",
   "execution_count": 15,
   "metadata": {},
   "outputs": [
    {
     "data": {
      "text/plain": [
       "<matplotlib.axes._subplots.AxesSubplot at 0x7f09bdb7d358>"
      ]
     },
     "execution_count": 15,
     "metadata": {},
     "output_type": "execute_result"
    },
    {
     "data": {
      "image/png": "[encoded data removed]",
      "text/plain": [
       "<Figure size 432x288 with 1 Axes>"
      ]
     },
     "metadata": {
      "needs_background": "light"
     },
     "output_type": "display_data"
    }
   ],
   "source": [
    "train_df[\"reviewer.scores.overall\"].hist()"
   ]
  },
  {
   "cell_type": "code",
   "execution_count": 16,
   "metadata": {},
   "outputs": [],
   "source": [
    "def get_embeddings(vocab):\n",
    "    return cupy.asnumpy(vocab.vectors.data)\n",
    "\n",
    "def compile_lstm(embeddings, shape, settings):\n",
    "    model = Sequential()\n",
    "    model.add(\n",
    "        Embedding(\n",
    "            embeddings.shape[0],\n",
    "            embeddings.shape[1],\n",
    "            input_length=shape[\"max_length\"],\n",
    "            trainable=False,\n",
    "            weights=[embeddings],\n",
    "            mask_zero=True,\n",
    "        )\n",
    "    )\n",
    "    model.add(TimeDistributed(Dense(shape[\"nr_hidden\"], use_bias=False)))\n",
    "    model.add(\n",
    "        Bidirectional(\n",
    "            LSTM(\n",
    "                shape[\"nr_hidden\"],\n",
    "                recurrent_dropout=settings[\"dropout\"],\n",
    "                dropout=settings[\"dropout\"],\n",
    "            )\n",
    "        )\n",
    "    )\n",
    "    model.add(Dense(shape[\"nr_class\"], activation=\"sigmoid\"))\n",
    "    model.compile(\n",
    "        optimizer=Adam(lr=settings[\"lr\"]),\n",
    "        loss=\"categorical_crossentropy\",\n",
    "        metrics=[\"accuracy\"],\n",
    "    )\n",
    "    return model"
   ]
  },
  {
   "cell_type": "code",
   "execution_count": 185,
   "metadata": {},
   "outputs": [],
   "source": [
    "def group_sentences(document, num_sentences=4):\n",
    "    sentence_count = 0\n",
    "    for token in document:\n",
    "        if sentence_count % num_sentences == 0 and token.is_sent_start:\n",
    "            token.is_sent_start = True\n",
    "            sentence_count += 1\n",
    "        elif token.is_sent_start:\n",
    "            token.is_sent_start = False\n",
    "            sentence_count += 1\n",
    "    return document"
   ]
  },
  {
   "cell_type": "code",
   "execution_count": 17,
   "metadata": {},
   "outputs": [],
   "source": [
    "nlp = spacy.load(\"en_core_web_md\", disable=[\"parser\", \"tagger\", \"ner\"])\n",
    "nlp.add_pipe(nlp.create_pipe(\"sentencizer\"))\n",
    "nlp.add_pipe(group_sentences, last=True)"
   ]
  },
  {
   "cell_type": "code",
   "execution_count": 199,
   "metadata": {},
   "outputs": [],
   "source": [
    "embeddings = get_embeddings(nlp.vocab)\n",
    "shape = {\"nr_hidden\": 128, \"max_length\": 200, \"nr_class\": 3}\n",
    "settings = {\"dropout\": 0.5, \"lr\": 0.001}\n",
    "batch_size = 64\n",
    "nb_epoch = 5"
   ]
  },
  {
   "cell_type": "code",
   "execution_count": 24,
   "metadata": {
    "scrolled": true
   },
   "outputs": [],
   "source": [
    "model = compile_lstm(embeddings, shape, settings)"
   ]
  },
  {
   "cell_type": "code",
   "execution_count": 25,
   "metadata": {},
   "outputs": [],
   "source": [
    "train_texts = train_df[\"content\"]\n",
    "valid_texts = valid_df[\"content\"]\n",
    "test_texts = test_df[\"content\"]\n",
    "\n",
    "train_labels = pd.cut(train_df[\"reviewer.scores.overall\"], bins=[0,5,7,10],\n",
    "                       labels=[\"overall.Negative\", \"overall.Neutral\", \"overall.Positive\"])\n",
    "valid_labels = pd.cut(valid_df[\"reviewer.scores.overall\"], bins=[0,5,7,10],\n",
    "                       labels=[\"overall.Negative\", \"overall.Neutral\", \"overall.Positive\"])\n",
    "test_labels = pd.cut(test_df[\"reviewer.scores.overall\"], bins=[0,5,7,10],\n",
    "                       labels=[\"overall.Negative\", \"overall.Neutral\", \"overall.Positive\"])"
   ]
  },
  {
   "cell_type": "code",
   "execution_count": 26,
   "metadata": {},
   "outputs": [],
   "source": [
    "def get_features(texts, max_length, nlp, batch_size=64):\n",
    "    X = np.zeros((len(texts), max_length), dtype=\"int32\")\n",
    "    i = 0\n",
    "    sentences = []\n",
    "    for doc in nlp.pipe(texts, batch_size=batch_size, disable=[\"parser\", \"tagger\", \"ner\"]):\n",
    "        for j, token in enumerate(doc):\n",
    "            if j >= max_length:\n",
    "                break\n",
    "            vector_id = token.vocab.vectors.find(key=token.orth)\n",
    "            if vector_id >= 0:\n",
    "                X[i, j] = vector_id\n",
    "            else:\n",
    "                X[i, j] = 0\n",
    "        i += 1\n",
    "    \n",
    "    return X\n",
    "\n",
    "def encode_labels(labels, one_hot=True):\n",
    "    labels = labels.reset_index(drop=True)\n",
    "    categories = list(labels.unique())\n",
    "    Y = np.zeros((len(labels), 1))\n",
    "    \n",
    "    for i, cat in enumerate(categories):\n",
    "        Y[labels.index[labels == cat]] = i\n",
    "    \n",
    "    if one_hot:\n",
    "        return to_categorical(Y, num_classes=len(categories))\n",
    "    else:\n",
    "        return Y"
   ]
  },
  {
   "cell_type": "code",
   "execution_count": 198,
   "metadata": {},
   "outputs": [],
   "source": [
    "def get_labelled_sentences_from_doc(doc, doc_label):\n",
    "    labels = []\n",
    "    sentences = []\n",
    "    for sent in doc.sents:\n",
    "        sentences.append(sent)\n",
    "        labels.append(y)\n",
    "    \n",
    "    return sentences, np.asarray(labels, dtype=\"int32\")\n",
    "\n",
    "# need to incorporate this when I process the text into docs\n",
    "def get_labelled_sentences(docs, doc_labels):\n",
    "    labels = []\n",
    "    sentences = []\n",
    "    for doc, y in zip(docs, doc_labels):\n",
    "        for sent in doc.sents:\n",
    "            sentences.append(sent)\n",
    "            labels.append(y)\n",
    "    return sentences, np.asarray(labels, dtype=\"int32\")"
   ]
  },
  {
   "cell_type": "code",
   "execution_count": 196,
   "metadata": {},
   "outputs": [
    {
     "name": "stdout",
     "output_type": "stream",
     "text": [
      "0) like many shows relating to fantasy, magic, and witchcraft, i can’t say that zero kara hajimeru mahou no sho looks any unique compared to the rest at first glance. i mean, if you look at it carefully, the show’s premise is pretty standard that involves a conflict between human and witches. the additional aspect of beastfallen (cursed humans with animalistic appearances) adds some slight intrigue to the story. but is this show really worth investing time in?\n",
      "1) or is it just a show that panders to fans that wants a dose of fantasy in their life? adapting the light novel of the same name, zero karahajimeru mahou no sho (grimoire of zero) takes a very high fantasy approach with both its characters and story. the most noticeable character is a beastfallen dubbed as “mercenary” by the witch zero. they travel together with albus, another magician and throughout their journey, they learn much more about each other.\n",
      "2) still, the primary goal of their journey is to find the grimoire of zero, a very powerful spellbook that has potential to change the world. now wait a minute. witches? magical artifacts?\n",
      "3) journey? if anyone has seen enough anime, it wouldn’t be surprising if this show reminds them of fantasy adventures like hitsugi no chaika, spice and wolf, or even to an extent, berserk. the fact is, this show appeals to a fantasy adventure while it tries to be a show that stands on its own feet.   the first few episodes of the series establishes the formation of the main trio.\n",
      "4) zero encounters the beastfallen and is enlisted as her bodyguard. on the other hand, mercenary shows fear for zero because of her status as a witch. throughout the journey, he also learns that she’s much more different than appears to be. then, there’s albus, the third member of the group and we learn much more about this young magician’s past.\n",
      "5) in the meantime, i think what can hook the audience into this show is the character chemistry. at its core, zero and mercenary always gets me curious as the two are so different. yet at the same time, it’s really fun to see how far their relationship develop as they are put into compromising positions. for albus, the character’s past is explored through the eyes of another character named holdem.\n",
      "6) from first glance, i disliked the way his character is portrayed with his arrogance. as time went on however, the show reveals a different side of him that i thought as very appreciating. so in essence, characters in this series shouldn’t be judged on what they appear to be on the surface until we understand them better. if there’s one character that i genuinely dislike though, it would be thirteen.\n",
      "7) trouble always seems to follow with this guy and he stands as a dangerous obstacle during our main characters’ journey. his persona fits within the stereotypical type of antagonist that gives a sour taste. not to mention, i really can’t stand some of his dialogues as they sound very forced.   now if you’re wondering about the main story, the core of the show still involves the characters’ journey in this fantasy adventure.\n",
      "8) to be honest, the first half of the show feels like it suffers from pacing problems. i don’t mean that by adaptation standards but just in general as some episodes focuses too much on the characters’ lives. it can actually cause less interest for viewers as by the time i finished watching the 5th episode, it seems far less focused on finding the grimoire. still, i would also say that the story does improve later on as some episodes got me much more invested into characters such as mercenary and albus.\n",
      "9) the background story told by holdem in particular felt like a highlight in this show as it not only gave insight about albus’ past but also how the world viewed witches in general. while i dislike thirteen as a character, i do find his role in this show to be very thrilling. the way he plays mind games with zero and mercenary adds a different dimension of drama that builds more and more. so in essence, the general flow of the storytelling has slow start but gradually develops as more episodes progresses.\n",
      "10) it will test the patience of the viewers especially those who are less interested in the characters and more invested into the plot.   adapted by white fox, it’s not unusual to see that the artwork has some resemblance to other fantasy series. re:zero is the first show that comes to mind as zero has some resemblance to emilia. however, i would say that zero is like a dynamite that comes in little packages.\n",
      "11) she is short but has enormous potential as a witch. mercenary has the animalistic look with his tiger-like face but barbaric human body. similarly, holdem looks like a generic wolf guy you’d expect to see in most fantasy anime. albus is designed to look fragile and it’s sad to say, but the young magician really doesn’t stand out compared to the other cast members.\n",
      "12) still, artwork of the show looks visually appealing if you watch it with a fantasy mindset. on the other hand, i’m not very impressed by the general world building as many places our adventurers’ wanders looks too dull and unoriginal.    for a show about fantasy adventure, it occasionally lacks the mystical feel but thankfully with the soundtrack, it retains its credibility on most parts. from my viewpoint, both the op and ed theme songs are quite colorfully decorated.\n",
      "13) the ed theme in particular delivers a more charming presence of the main characters between zero and mercenary. i’m also impressed by the voice acting of nonhuman characters such as mercenary and holdem. in many ways, they sound very human.   ah, grimoire of zero.\n",
      "14) this is a show that some people mistook it for re:zero’s second coming at first glance. on paper, it’s a fantasy adventure and one that mixes in humans, witches, and beasts. by storytelling standards, it’s nothing impressive to write home about. however, once i got invested into the characters, the show felt more special at heart.\n",
      "15) it’s not a golden egg in a treasure chest by any means but is still a fun ride if you’re feeling the will to take.\n",
      "------------------------------\n",
      "0) 13 episodes of utter beauty. i've seen 90 anime and this is in my top five. words to describe baccano: bloody , violent, sick, sadistic, beautiful, sad, happy, twisted, cruel, funny, crass, hell raising and eye crossing out of this world amazing. ever see an anime that makes you rethink what was possible in anime.\n",
      "1) aside from a select few others it is the only one i'll ever give a ten across the board,  this is baccano,  story 10- the story is beyond complex, yet it beautiful in it's simplicity there are at least as many subplots as there are main characters, every line adds depth, every movement adds characterevery twist makes you want to learn more.    art 10-  on a scale of 1 to 10 , baccano deserves an eleven, the art is fucking cool, it's crisp it's clean, it doesn't take over but merges into a larger flow.   sound 10-  the jazz is better than trigun.   character 10-  the characters , wow, the characters i love every single one there are 11 of them, each with there own personality that you have to know more about, this is the best character development in an anime that i have ever seen.\n",
      "2)   enjoyement 10-  i loved every second of it, i was astounded by how dumbstruck it left me.    overall-  baccano is the unsung hero of animated win.   if your friends tell you that they hate anime, make 'em watch baccano.\n",
      "------------------------------\n"
     ]
    }
   ],
   "source": [
    "for doc in nlp.pipe(train_texts[:2], batch_size=1, disable=[\"parser\", \"tagger\", \"ner\"]):\n",
    "    for i, sent in enumerate(doc.sents):\n",
    "        print(str(i) + \") \"+ sent.text)\n",
    "    print(\"--\" * 15)"
   ]
  },
  {
   "cell_type": "code",
   "execution_count": 189,
   "metadata": {
    "scrolled": true
   },
   "outputs": [
    {
     "name": "stdout",
     "output_type": "stream",
     "text": [
      "0 this is pure bullshit lol. don't watch this, don't let 7+ rating fool you like it did me, thinking it would be somewhat decent show. go away fast, this isn't the ecchi you're looking for. story is bad, characters are even worse, art is only good for like, 3 seconds per episode and honestly i don't think japanese had seen nipples at this point of history.\n",
      "1 maybe they discovered it post 2015 or something. i don't know.  sound was bad, enjoyment was less than what i came to this anime fore and overall didn't hold up to expectations of \"ecchi harem battle magic and overpowred mc\"thing. meh/10 honestly, i just gave 4 or 5 arbitrarily.\n",
      "2 i came for a 7.25/10 anime, got less than 6/10.\n"
     ]
    }
   ],
   "source": [
    "for i, sent in enumerate(doc.sents):\n",
    "    print(i, sent)"
   ]
  },
  {
   "cell_type": "code",
   "execution_count": 46,
   "metadata": {
    "scrolled": true
   },
   "outputs": [],
   "source": [
    "train_X = get_features(train_texts, shape[\"max_length\"], nlp)\n",
    "valid_X = get_features(valid_texts, shape[\"max_length\"], nlp)"
   ]
  },
  {
   "cell_type": "code",
   "execution_count": 47,
   "metadata": {},
   "outputs": [],
   "source": [
    "train_Y = encode_labels(train_labels)\n",
    "valid_Y = encode_labels(valid_labels)"
   ]
  },
  {
   "cell_type": "code",
   "execution_count": 139,
   "metadata": {
    "scrolled": true
   },
   "outputs": [
    {
     "name": "stdout",
     "output_type": "stream",
     "text": [
      "Epoch 1/1\n",
      "10/10 [==============================] - 4s 448ms/step - loss: 1.0475 - acc: 0.4000\n"
     ]
    },
    {
     "data": {
      "text/plain": [
       "<keras.callbacks.History at 0x7f37d9ae16a0>"
      ]
     },
     "execution_count": 139,
     "metadata": {},
     "output_type": "execute_result"
    }
   ],
   "source": [
    "model.fit(train_X[:10,:], train_Y[:10,:], epochs=1, batch_size=2)"
   ]
  },
  {
   "cell_type": "code",
   "execution_count": null,
   "metadata": {},
   "outputs": [],
   "source": []
  },
  {
   "cell_type": "code",
   "execution_count": null,
   "metadata": {},
   "outputs": [],
   "source": []
  }
 ],
 "metadata": {
  "kernelspec": {
   "display_name": "Python 3",
   "language": "python",
   "name": "python3"
  },
  "language_info": {
   "codemirror_mode": {
    "name": "ipython",
    "version": 3
   },
   "file_extension": ".py",
   "mimetype": "text/x-python",
   "name": "python",
   "nbconvert_exporter": "python",
   "pygments_lexer": "ipython3",
   "version": "3.6.5"
  }
 },
 "nbformat": 4,
 "nbformat_minor": 2
}
